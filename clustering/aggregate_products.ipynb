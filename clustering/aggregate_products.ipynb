{
 "cells": [
  {
   "cell_type": "code",
   "execution_count": null,
   "metadata": {},
   "outputs": [],
   "source": [
    "# Clustering of timeseries data\n",
    "\n",
    "import pandas as pd\n",
    "import numpy as np\n",
    "import matplotlib.pyplot as plt\n"
   ]
  },
  {
   "cell_type": "code",
   "execution_count": null,
   "metadata": {},
   "outputs": [],
   "source": [
    "df = pd.read_csv('../../Group Project Stage/snapshot_full_df.csv')"
   ]
  },
  {
   "cell_type": "code",
   "execution_count": 3,
   "metadata": {},
   "outputs": [
    {
     "name": "stderr",
     "output_type": "stream",
     "text": [
      "C:\\ProgramData\\Anaconda3\\lib\\site-packages\\IPython\\core\\interactiveshell.py:3018: DtypeWarning: Columns (10,11,12) have mixed types. Specify dtype option on import or set low_memory=False.\n",
      "  interactivity=interactivity, compiler=compiler, result=result)\n"
     ]
    },
    {
     "data": {
      "text/html": [
       "<div>\n",
       "<style scoped>\n",
       "    .dataframe tbody tr th:only-of-type {\n",
       "        vertical-align: middle;\n",
       "    }\n",
       "\n",
       "    .dataframe tbody tr th {\n",
       "        vertical-align: top;\n",
       "    }\n",
       "\n",
       "    .dataframe thead th {\n",
       "        text-align: right;\n",
       "    }\n",
       "</style>\n",
       "<table border=\"1\" class=\"dataframe\">\n",
       "  <thead>\n",
       "    <tr style=\"text-align: right;\">\n",
       "      <th></th>\n",
       "      <th>store_key</th>\n",
       "      <th>sku_key</th>\n",
       "      <th>tran_date</th>\n",
       "      <th>sales</th>\n",
       "      <th>selling_price</th>\n",
       "      <th>avg_discount</th>\n",
       "      <th>store_region</th>\n",
       "      <th>store_grading</th>\n",
       "      <th>sku_department</th>\n",
       "      <th>sku_subdepartment</th>\n",
       "      <th>sku_category</th>\n",
       "      <th>sku_subcategory</th>\n",
       "    </tr>\n",
       "  </thead>\n",
       "  <tbody>\n",
       "    <tr>\n",
       "      <th>0</th>\n",
       "      <td>62</td>\n",
       "      <td>35681</td>\n",
       "      <td>2017-03-22</td>\n",
       "      <td>0</td>\n",
       "      <td>100.0</td>\n",
       "      <td>0.0</td>\n",
       "      <td>KWA</td>\n",
       "      <td>B</td>\n",
       "      <td>TY</td>\n",
       "      <td>TY</td>\n",
       "      <td>000</td>\n",
       "      <td>000</td>\n",
       "    </tr>\n",
       "    <tr>\n",
       "      <th>1</th>\n",
       "      <td>62</td>\n",
       "      <td>35681</td>\n",
       "      <td>2017-04-22</td>\n",
       "      <td>6</td>\n",
       "      <td>100.0</td>\n",
       "      <td>0.0</td>\n",
       "      <td>KWA</td>\n",
       "      <td>B</td>\n",
       "      <td>TY</td>\n",
       "      <td>TY</td>\n",
       "      <td>000</td>\n",
       "      <td>000</td>\n",
       "    </tr>\n",
       "    <tr>\n",
       "      <th>2</th>\n",
       "      <td>62</td>\n",
       "      <td>35681</td>\n",
       "      <td>2017-07-06</td>\n",
       "      <td>0</td>\n",
       "      <td>100.0</td>\n",
       "      <td>0.0</td>\n",
       "      <td>KWA</td>\n",
       "      <td>B</td>\n",
       "      <td>TY</td>\n",
       "      <td>TY</td>\n",
       "      <td>000</td>\n",
       "      <td>000</td>\n",
       "    </tr>\n",
       "    <tr>\n",
       "      <th>3</th>\n",
       "      <td>62</td>\n",
       "      <td>35681</td>\n",
       "      <td>2017-08-15</td>\n",
       "      <td>0</td>\n",
       "      <td>100.0</td>\n",
       "      <td>0.0</td>\n",
       "      <td>KWA</td>\n",
       "      <td>B</td>\n",
       "      <td>TY</td>\n",
       "      <td>TY</td>\n",
       "      <td>000</td>\n",
       "      <td>000</td>\n",
       "    </tr>\n",
       "    <tr>\n",
       "      <th>4</th>\n",
       "      <td>62</td>\n",
       "      <td>35681</td>\n",
       "      <td>2017-09-02</td>\n",
       "      <td>0</td>\n",
       "      <td>100.0</td>\n",
       "      <td>0.0</td>\n",
       "      <td>KWA</td>\n",
       "      <td>B</td>\n",
       "      <td>TY</td>\n",
       "      <td>TY</td>\n",
       "      <td>000</td>\n",
       "      <td>000</td>\n",
       "    </tr>\n",
       "  </tbody>\n",
       "</table>\n",
       "</div>"
      ],
      "text/plain": [
       "   store_key  sku_key   tran_date  sales  selling_price  avg_discount  \\\n",
       "0         62    35681  2017-03-22      0          100.0           0.0   \n",
       "1         62    35681  2017-04-22      6          100.0           0.0   \n",
       "2         62    35681  2017-07-06      0          100.0           0.0   \n",
       "3         62    35681  2017-08-15      0          100.0           0.0   \n",
       "4         62    35681  2017-09-02      0          100.0           0.0   \n",
       "\n",
       "  store_region store_grading sku_department sku_subdepartment sku_category  \\\n",
       "0          KWA             B             TY                TY          000   \n",
       "1          KWA             B             TY                TY          000   \n",
       "2          KWA             B             TY                TY          000   \n",
       "3          KWA             B             TY                TY          000   \n",
       "4          KWA             B             TY                TY          000   \n",
       "\n",
       "  sku_subcategory  \n",
       "0             000  \n",
       "1             000  \n",
       "2             000  \n",
       "3             000  \n",
       "4             000  "
      ]
     },
     "execution_count": 3,
     "metadata": {},
     "output_type": "execute_result"
    }
   ],
   "source": [
    "df.drop('Unnamed: 0', axis=1, inplace=True)x"
   ]
  },
  {
   "cell_type": "code",
   "execution_count": 28,
   "metadata": {},
   "outputs": [],
   "source": [
    "aggregate = df.groupby(['sku_key', 'tran_date']).sum()\n",
    "aggregate.drop('store_key', axis=1, inplace=True)\n",
    "aggregate.reset_index(inplace=True)"
   ]
  },
  {
   "cell_type": "code",
   "execution_count": 30,
   "metadata": {},
   "outputs": [],
   "source": [
    "categorical = df[['sku_key', 'sku_department',\n",
    "                   'sku_subdepartment', 'sku_category', 'sku_subcategory']]"
   ]
  },
  {
   "cell_type": "code",
   "execution_count": 59,
   "metadata": {},
   "outputs": [],
   "source": [
    "nw_df = pd.DataFrame([], columns=['sku_key','sku_department','sku_subdepartment','sku_category','sku_subcategory'])\n",
    "for i in categorical['sku_key'].unique():\n",
    "    nw_df = pd.concat([nw_df, pd.DataFrame(categorical[categorical['sku_key'] == i].iloc[0]).T])"
   ]
  },
  {
   "cell_type": "code",
   "execution_count": 60,
   "metadata": {},
   "outputs": [],
   "source": [
    "nw_df.reset_index(inplace=True, drop=True)"
   ]
  },
  {
   "cell_type": "code",
   "execution_count": 70,
   "metadata": {},
   "outputs": [],
   "source": [
    "aggregate['sku_key'] = aggregate['sku_key'].astype(int)\n",
    "nw_df['sku_key'] = nw_df['sku_key'].astype(int)"
   ]
  },
  {
   "cell_type": "code",
   "execution_count": 72,
   "metadata": {},
   "outputs": [],
   "source": [
    "aggregate_df = aggregate.merge(nw_df, how='left', on='sku_key')"
   ]
  },
  {
   "cell_type": "code",
   "execution_count": 73,
   "metadata": {},
   "outputs": [
    {
     "data": {
      "text/html": [
       "<div>\n",
       "<style scoped>\n",
       "    .dataframe tbody tr th:only-of-type {\n",
       "        vertical-align: middle;\n",
       "    }\n",
       "\n",
       "    .dataframe tbody tr th {\n",
       "        vertical-align: top;\n",
       "    }\n",
       "\n",
       "    .dataframe thead th {\n",
       "        text-align: right;\n",
       "    }\n",
       "</style>\n",
       "<table border=\"1\" class=\"dataframe\">\n",
       "  <thead>\n",
       "    <tr style=\"text-align: right;\">\n",
       "      <th></th>\n",
       "      <th>sku_key</th>\n",
       "      <th>tran_date</th>\n",
       "      <th>sales</th>\n",
       "      <th>selling_price</th>\n",
       "      <th>avg_discount</th>\n",
       "      <th>sku_department</th>\n",
       "      <th>sku_subdepartment</th>\n",
       "      <th>sku_category</th>\n",
       "      <th>sku_subcategory</th>\n",
       "    </tr>\n",
       "  </thead>\n",
       "  <tbody>\n",
       "    <tr>\n",
       "      <th>0</th>\n",
       "      <td>28</td>\n",
       "      <td>2016-03-02</td>\n",
       "      <td>1</td>\n",
       "      <td>89.9</td>\n",
       "      <td>0.0</td>\n",
       "      <td>TY</td>\n",
       "      <td>06</td>\n",
       "      <td>063</td>\n",
       "      <td>20G</td>\n",
       "    </tr>\n",
       "    <tr>\n",
       "      <th>1</th>\n",
       "      <td>28</td>\n",
       "      <td>2016-03-03</td>\n",
       "      <td>0</td>\n",
       "      <td>89.9</td>\n",
       "      <td>0.0</td>\n",
       "      <td>TY</td>\n",
       "      <td>06</td>\n",
       "      <td>063</td>\n",
       "      <td>20G</td>\n",
       "    </tr>\n",
       "    <tr>\n",
       "      <th>2</th>\n",
       "      <td>28</td>\n",
       "      <td>2016-03-04</td>\n",
       "      <td>0</td>\n",
       "      <td>89.9</td>\n",
       "      <td>0.0</td>\n",
       "      <td>TY</td>\n",
       "      <td>06</td>\n",
       "      <td>063</td>\n",
       "      <td>20G</td>\n",
       "    </tr>\n",
       "    <tr>\n",
       "      <th>3</th>\n",
       "      <td>28</td>\n",
       "      <td>2016-03-05</td>\n",
       "      <td>0</td>\n",
       "      <td>89.9</td>\n",
       "      <td>0.0</td>\n",
       "      <td>TY</td>\n",
       "      <td>06</td>\n",
       "      <td>063</td>\n",
       "      <td>20G</td>\n",
       "    </tr>\n",
       "    <tr>\n",
       "      <th>4</th>\n",
       "      <td>28</td>\n",
       "      <td>2016-03-06</td>\n",
       "      <td>0</td>\n",
       "      <td>89.9</td>\n",
       "      <td>0.0</td>\n",
       "      <td>TY</td>\n",
       "      <td>06</td>\n",
       "      <td>063</td>\n",
       "      <td>20G</td>\n",
       "    </tr>\n",
       "  </tbody>\n",
       "</table>\n",
       "</div>"
      ],
      "text/plain": [
       "   sku_key   tran_date  sales  selling_price  avg_discount sku_department  \\\n",
       "0       28  2016-03-02      1           89.9           0.0             TY   \n",
       "1       28  2016-03-03      0           89.9           0.0             TY   \n",
       "2       28  2016-03-04      0           89.9           0.0             TY   \n",
       "3       28  2016-03-05      0           89.9           0.0             TY   \n",
       "4       28  2016-03-06      0           89.9           0.0             TY   \n",
       "\n",
       "  sku_subdepartment sku_category sku_subcategory  \n",
       "0                06          063             20G  \n",
       "1                06          063             20G  \n",
       "2                06          063             20G  \n",
       "3                06          063             20G  \n",
       "4                06          063             20G  "
      ]
     },
     "execution_count": 73,
     "metadata": {},
     "output_type": "execute_result"
    }
   ],
   "source": [
    "aggregate_df.head()"
   ]
  },
  {
   "cell_type": "code",
   "execution_count": 74,
   "metadata": {},
   "outputs": [],
   "source": [
    "aggregate_df.to_csv('aggregate_products.csv')"
   ]
  },
  {
   "cell_type": "code",
   "execution_count": null,
   "metadata": {},
   "outputs": [],
   "source": []
  }
 ],
 "metadata": {
  "kernelspec": {
   "display_name": "Python 3",
   "language": "python",
   "name": "python3"
  },
  "language_info": {
   "codemirror_mode": {
    "name": "ipython",
    "version": 3
   },
   "file_extension": ".py",
   "mimetype": "text/x-python",
   "name": "python",
   "nbconvert_exporter": "python",
   "pygments_lexer": "ipython3",
   "version": "3.6.6"
  }
 },
 "nbformat": 4,
 "nbformat_minor": 2
}
