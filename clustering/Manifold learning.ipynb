{
 "cells": [
  {
   "cell_type": "code",
   "execution_count": 3,
   "metadata": {},
   "outputs": [],
   "source": [
    "# Clustering of timeseries data\n",
    "import pandas as pd\n",
    "import numpy as np\n",
    "import matplotlib.pyplot as plt\n",
    "from sklearn.manifold import TSNE\n",
    "from sklearn.decomposition import PCA\n",
    "from sklearn.preprocessing import MinMaxScaler\n",
    "from minisom import MiniSom"
   ]
  },
  {
   "cell_type": "code",
   "execution_count": 2,
   "metadata": {},
   "outputs": [
    {
     "name": "stderr",
     "output_type": "stream",
     "text": [
      "C:\\ProgramData\\Anaconda3\\lib\\site-packages\\IPython\\core\\interactiveshell.py:3018: DtypeWarning: Columns (7) have mixed types. Specify dtype option on import or set low_memory=False.\n",
      "  interactivity=interactivity, compiler=compiler, result=result)\n"
     ]
    },
    {
     "data": {
      "text/html": [
       "<div>\n",
       "<style scoped>\n",
       "    .dataframe tbody tr th:only-of-type {\n",
       "        vertical-align: middle;\n",
       "    }\n",
       "\n",
       "    .dataframe tbody tr th {\n",
       "        vertical-align: top;\n",
       "    }\n",
       "\n",
       "    .dataframe thead th {\n",
       "        text-align: right;\n",
       "    }\n",
       "</style>\n",
       "<table border=\"1\" class=\"dataframe\">\n",
       "  <thead>\n",
       "    <tr style=\"text-align: right;\">\n",
       "      <th></th>\n",
       "      <th>sku_key</th>\n",
       "      <th>tran_date</th>\n",
       "      <th>sales</th>\n",
       "      <th>selling_price</th>\n",
       "      <th>avg_discount</th>\n",
       "      <th>sku_department</th>\n",
       "      <th>sku_subdepartment</th>\n",
       "      <th>sku_category</th>\n",
       "      <th>sku_subcategory</th>\n",
       "    </tr>\n",
       "  </thead>\n",
       "  <tbody>\n",
       "    <tr>\n",
       "      <th>0</th>\n",
       "      <td>28</td>\n",
       "      <td>2016-03-02</td>\n",
       "      <td>1</td>\n",
       "      <td>89.9</td>\n",
       "      <td>0.0</td>\n",
       "      <td>TY</td>\n",
       "      <td>06</td>\n",
       "      <td>063</td>\n",
       "      <td>20G</td>\n",
       "    </tr>\n",
       "    <tr>\n",
       "      <th>1</th>\n",
       "      <td>28</td>\n",
       "      <td>2016-03-03</td>\n",
       "      <td>0</td>\n",
       "      <td>89.9</td>\n",
       "      <td>0.0</td>\n",
       "      <td>TY</td>\n",
       "      <td>06</td>\n",
       "      <td>063</td>\n",
       "      <td>20G</td>\n",
       "    </tr>\n",
       "    <tr>\n",
       "      <th>2</th>\n",
       "      <td>28</td>\n",
       "      <td>2016-03-04</td>\n",
       "      <td>0</td>\n",
       "      <td>89.9</td>\n",
       "      <td>0.0</td>\n",
       "      <td>TY</td>\n",
       "      <td>06</td>\n",
       "      <td>063</td>\n",
       "      <td>20G</td>\n",
       "    </tr>\n",
       "    <tr>\n",
       "      <th>3</th>\n",
       "      <td>28</td>\n",
       "      <td>2016-03-05</td>\n",
       "      <td>0</td>\n",
       "      <td>89.9</td>\n",
       "      <td>0.0</td>\n",
       "      <td>TY</td>\n",
       "      <td>06</td>\n",
       "      <td>063</td>\n",
       "      <td>20G</td>\n",
       "    </tr>\n",
       "    <tr>\n",
       "      <th>4</th>\n",
       "      <td>28</td>\n",
       "      <td>2016-03-06</td>\n",
       "      <td>0</td>\n",
       "      <td>89.9</td>\n",
       "      <td>0.0</td>\n",
       "      <td>TY</td>\n",
       "      <td>06</td>\n",
       "      <td>063</td>\n",
       "      <td>20G</td>\n",
       "    </tr>\n",
       "  </tbody>\n",
       "</table>\n",
       "</div>"
      ],
      "text/plain": [
       "   sku_key   tran_date  sales  selling_price  avg_discount sku_department  \\\n",
       "0       28  2016-03-02      1           89.9           0.0             TY   \n",
       "1       28  2016-03-03      0           89.9           0.0             TY   \n",
       "2       28  2016-03-04      0           89.9           0.0             TY   \n",
       "3       28  2016-03-05      0           89.9           0.0             TY   \n",
       "4       28  2016-03-06      0           89.9           0.0             TY   \n",
       "\n",
       "  sku_subdepartment sku_category sku_subcategory  \n",
       "0                06          063             20G  \n",
       "1                06          063             20G  \n",
       "2                06          063             20G  \n",
       "3                06          063             20G  \n",
       "4                06          063             20G  "
      ]
     },
     "execution_count": 2,
     "metadata": {},
     "output_type": "execute_result"
    }
   ],
   "source": [
    "df = pd.read_csv('./aggregate_products.csv')\n",
    "\n",
    "df.head()"
   ]
  },
  {
   "cell_type": "code",
   "execution_count": 4,
   "metadata": {},
   "outputs": [],
   "source": [
    "dummies = pd.get_dummies(df[['sku_department', 'sku_subdepartment', 'sku_category', 'sku_subcategory']])\n",
    "\n",
    "df = df[['sku_key', 'tran_date', 'sales', 'selling_price']].join(dummies)"
   ]
  },
  {
   "cell_type": "code",
   "execution_count": 5,
   "metadata": {},
   "outputs": [],
   "source": [
    "df['tran_date'] = pd.to_datetime(df['tran_date'])"
   ]
  },
  {
   "cell_type": "code",
   "execution_count": 6,
   "metadata": {
    "scrolled": true
   },
   "outputs": [],
   "source": [
    "df['month'] = df['tran_date'].apply(lambda x: x.month)\n",
    "df['day'] = df['tran_date'].apply(lambda x: x.day)\n",
    "df['year'] = df['tran_date'].apply(lambda x: x.year)"
   ]
  },
  {
   "cell_type": "code",
   "execution_count": 7,
   "metadata": {},
   "outputs": [
    {
     "data": {
      "text/html": [
       "<div>\n",
       "<style scoped>\n",
       "    .dataframe tbody tr th:only-of-type {\n",
       "        vertical-align: middle;\n",
       "    }\n",
       "\n",
       "    .dataframe tbody tr th {\n",
       "        vertical-align: top;\n",
       "    }\n",
       "\n",
       "    .dataframe thead th {\n",
       "        text-align: right;\n",
       "    }\n",
       "</style>\n",
       "<table border=\"1\" class=\"dataframe\">\n",
       "  <thead>\n",
       "    <tr style=\"text-align: right;\">\n",
       "      <th></th>\n",
       "      <th>sku_key</th>\n",
       "      <th>tran_date</th>\n",
       "      <th>sales</th>\n",
       "      <th>selling_price</th>\n",
       "      <th>sku_department_AM</th>\n",
       "      <th>sku_department_BC</th>\n",
       "      <th>sku_department_BH</th>\n",
       "      <th>sku_department_BY</th>\n",
       "      <th>sku_department_CF</th>\n",
       "      <th>sku_department_PM</th>\n",
       "      <th>...</th>\n",
       "      <th>sku_subcategory_R01</th>\n",
       "      <th>sku_subcategory_RBA</th>\n",
       "      <th>sku_subcategory_SG2</th>\n",
       "      <th>sku_subcategory_SP5</th>\n",
       "      <th>sku_subcategory_SPD</th>\n",
       "      <th>sku_subcategory_ST5</th>\n",
       "      <th>sku_subcategory_ST9</th>\n",
       "      <th>month</th>\n",
       "      <th>day</th>\n",
       "      <th>year</th>\n",
       "    </tr>\n",
       "  </thead>\n",
       "  <tbody>\n",
       "    <tr>\n",
       "      <th>0</th>\n",
       "      <td>28</td>\n",
       "      <td>2016-03-02</td>\n",
       "      <td>1</td>\n",
       "      <td>89.9</td>\n",
       "      <td>0</td>\n",
       "      <td>0</td>\n",
       "      <td>0</td>\n",
       "      <td>0</td>\n",
       "      <td>0</td>\n",
       "      <td>0</td>\n",
       "      <td>...</td>\n",
       "      <td>0</td>\n",
       "      <td>0</td>\n",
       "      <td>0</td>\n",
       "      <td>0</td>\n",
       "      <td>0</td>\n",
       "      <td>0</td>\n",
       "      <td>0</td>\n",
       "      <td>3</td>\n",
       "      <td>2</td>\n",
       "      <td>2016</td>\n",
       "    </tr>\n",
       "    <tr>\n",
       "      <th>1</th>\n",
       "      <td>28</td>\n",
       "      <td>2016-03-03</td>\n",
       "      <td>0</td>\n",
       "      <td>89.9</td>\n",
       "      <td>0</td>\n",
       "      <td>0</td>\n",
       "      <td>0</td>\n",
       "      <td>0</td>\n",
       "      <td>0</td>\n",
       "      <td>0</td>\n",
       "      <td>...</td>\n",
       "      <td>0</td>\n",
       "      <td>0</td>\n",
       "      <td>0</td>\n",
       "      <td>0</td>\n",
       "      <td>0</td>\n",
       "      <td>0</td>\n",
       "      <td>0</td>\n",
       "      <td>3</td>\n",
       "      <td>3</td>\n",
       "      <td>2016</td>\n",
       "    </tr>\n",
       "    <tr>\n",
       "      <th>2</th>\n",
       "      <td>28</td>\n",
       "      <td>2016-03-04</td>\n",
       "      <td>0</td>\n",
       "      <td>89.9</td>\n",
       "      <td>0</td>\n",
       "      <td>0</td>\n",
       "      <td>0</td>\n",
       "      <td>0</td>\n",
       "      <td>0</td>\n",
       "      <td>0</td>\n",
       "      <td>...</td>\n",
       "      <td>0</td>\n",
       "      <td>0</td>\n",
       "      <td>0</td>\n",
       "      <td>0</td>\n",
       "      <td>0</td>\n",
       "      <td>0</td>\n",
       "      <td>0</td>\n",
       "      <td>3</td>\n",
       "      <td>4</td>\n",
       "      <td>2016</td>\n",
       "    </tr>\n",
       "    <tr>\n",
       "      <th>3</th>\n",
       "      <td>28</td>\n",
       "      <td>2016-03-05</td>\n",
       "      <td>0</td>\n",
       "      <td>89.9</td>\n",
       "      <td>0</td>\n",
       "      <td>0</td>\n",
       "      <td>0</td>\n",
       "      <td>0</td>\n",
       "      <td>0</td>\n",
       "      <td>0</td>\n",
       "      <td>...</td>\n",
       "      <td>0</td>\n",
       "      <td>0</td>\n",
       "      <td>0</td>\n",
       "      <td>0</td>\n",
       "      <td>0</td>\n",
       "      <td>0</td>\n",
       "      <td>0</td>\n",
       "      <td>3</td>\n",
       "      <td>5</td>\n",
       "      <td>2016</td>\n",
       "    </tr>\n",
       "    <tr>\n",
       "      <th>4</th>\n",
       "      <td>28</td>\n",
       "      <td>2016-03-06</td>\n",
       "      <td>0</td>\n",
       "      <td>89.9</td>\n",
       "      <td>0</td>\n",
       "      <td>0</td>\n",
       "      <td>0</td>\n",
       "      <td>0</td>\n",
       "      <td>0</td>\n",
       "      <td>0</td>\n",
       "      <td>...</td>\n",
       "      <td>0</td>\n",
       "      <td>0</td>\n",
       "      <td>0</td>\n",
       "      <td>0</td>\n",
       "      <td>0</td>\n",
       "      <td>0</td>\n",
       "      <td>0</td>\n",
       "      <td>3</td>\n",
       "      <td>6</td>\n",
       "      <td>2016</td>\n",
       "    </tr>\n",
       "  </tbody>\n",
       "</table>\n",
       "<p>5 rows × 568 columns</p>\n",
       "</div>"
      ],
      "text/plain": [
       "   sku_key  tran_date  sales  selling_price  sku_department_AM  \\\n",
       "0       28 2016-03-02      1           89.9                  0   \n",
       "1       28 2016-03-03      0           89.9                  0   \n",
       "2       28 2016-03-04      0           89.9                  0   \n",
       "3       28 2016-03-05      0           89.9                  0   \n",
       "4       28 2016-03-06      0           89.9                  0   \n",
       "\n",
       "   sku_department_BC  sku_department_BH  sku_department_BY  sku_department_CF  \\\n",
       "0                  0                  0                  0                  0   \n",
       "1                  0                  0                  0                  0   \n",
       "2                  0                  0                  0                  0   \n",
       "3                  0                  0                  0                  0   \n",
       "4                  0                  0                  0                  0   \n",
       "\n",
       "   sku_department_PM  ...   sku_subcategory_R01  sku_subcategory_RBA  \\\n",
       "0                  0  ...                     0                    0   \n",
       "1                  0  ...                     0                    0   \n",
       "2                  0  ...                     0                    0   \n",
       "3                  0  ...                     0                    0   \n",
       "4                  0  ...                     0                    0   \n",
       "\n",
       "   sku_subcategory_SG2  sku_subcategory_SP5  sku_subcategory_SPD  \\\n",
       "0                    0                    0                    0   \n",
       "1                    0                    0                    0   \n",
       "2                    0                    0                    0   \n",
       "3                    0                    0                    0   \n",
       "4                    0                    0                    0   \n",
       "\n",
       "   sku_subcategory_ST5  sku_subcategory_ST9  month  day  year  \n",
       "0                    0                    0      3    2  2016  \n",
       "1                    0                    0      3    3  2016  \n",
       "2                    0                    0      3    4  2016  \n",
       "3                    0                    0      3    5  2016  \n",
       "4                    0                    0      3    6  2016  \n",
       "\n",
       "[5 rows x 568 columns]"
      ]
     },
     "execution_count": 7,
     "metadata": {},
     "output_type": "execute_result"
    }
   ],
   "source": [
    "df.head()"
   ]
  },
  {
   "cell_type": "code",
   "execution_count": 8,
   "metadata": {},
   "outputs": [
    {
     "data": {
      "text/plain": [
       "(1674162, 568)"
      ]
     },
     "execution_count": 8,
     "metadata": {},
     "output_type": "execute_result"
    }
   ],
   "source": [
    "df.shape"
   ]
  },
  {
   "cell_type": "code",
   "execution_count": 166,
   "metadata": {},
   "outputs": [],
   "source": [
    "limit = 50000"
   ]
  },
  {
   "cell_type": "code",
   "execution_count": 167,
   "metadata": {},
   "outputs": [
    {
     "name": "stderr",
     "output_type": "stream",
     "text": [
      "C:\\ProgramData\\Anaconda3\\lib\\site-packages\\sklearn\\preprocessing\\data.py:323: DataConversionWarning: Data with input dtype int64, float64 were all converted to float64 by MinMaxScaler.\n",
      "  return self.partial_fit(X, y)\n",
      "C:\\ProgramData\\Anaconda3\\lib\\site-packages\\ipykernel_launcher.py:5: SettingWithCopyWarning: \n",
      "A value is trying to be set on a copy of a slice from a DataFrame.\n",
      "Try using .loc[row_indexer,col_indexer] = value instead\n",
      "\n",
      "See the caveats in the documentation: http://pandas.pydata.org/pandas-docs/stable/indexing.html#indexing-view-versus-copy\n",
      "  \"\"\"\n",
      "C:\\ProgramData\\Anaconda3\\lib\\site-packages\\pandas\\core\\indexing.py:543: SettingWithCopyWarning: \n",
      "A value is trying to be set on a copy of a slice from a DataFrame.\n",
      "Try using .loc[row_indexer,col_indexer] = value instead\n",
      "\n",
      "See the caveats in the documentation: http://pandas.pydata.org/pandas-docs/stable/indexing.html#indexing-view-versus-copy\n",
      "  self.obj[item] = s\n"
     ]
    }
   ],
   "source": [
    "scale = MinMaxScaler()\n",
    "skus = df['sku_key']\n",
    "X = df.drop(['tran_date', 'day', 'month', 'year'], axis=1)\n",
    "X.set_index('sku_key', inplace=True)\n",
    "X[['sales', 'selling_price']] = scale.fit_transform(X[['sales', 'selling_price']])\n",
    "X = X[:limit]"
   ]
  },
  {
   "cell_type": "code",
   "execution_count": 168,
   "metadata": {},
   "outputs": [
    {
     "data": {
      "text/plain": [
       "(50000, 563)"
      ]
     },
     "execution_count": 168,
     "metadata": {},
     "output_type": "execute_result"
    }
   ],
   "source": [
    "X.shape"
   ]
  },
  {
   "cell_type": "markdown",
   "metadata": {},
   "source": [
    "## t-SNE"
   ]
  },
  {
   "cell_type": "code",
   "execution_count": 169,
   "metadata": {},
   "outputs": [],
   "source": [
    "dimred = TSNE()"
   ]
  },
  {
   "cell_type": "code",
   "execution_count": 170,
   "metadata": {},
   "outputs": [],
   "source": [
    "plot_df = dimred.fit_transform(X)"
   ]
  },
  {
   "cell_type": "code",
   "execution_count": 171,
   "metadata": {},
   "outputs": [],
   "source": [
    "plot_df = pd.DataFrame(plot_df).join(df[:limit])"
   ]
  },
  {
   "cell_type": "code",
   "execution_count": 172,
   "metadata": {},
   "outputs": [
    {
     "data": {
      "text/html": [
       "<div>\n",
       "<style scoped>\n",
       "    .dataframe tbody tr th:only-of-type {\n",
       "        vertical-align: middle;\n",
       "    }\n",
       "\n",
       "    .dataframe tbody tr th {\n",
       "        vertical-align: top;\n",
       "    }\n",
       "\n",
       "    .dataframe thead th {\n",
       "        text-align: right;\n",
       "    }\n",
       "</style>\n",
       "<table border=\"1\" class=\"dataframe\">\n",
       "  <thead>\n",
       "    <tr style=\"text-align: right;\">\n",
       "      <th></th>\n",
       "      <th>0</th>\n",
       "      <th>1</th>\n",
       "      <th>sku_key</th>\n",
       "      <th>tran_date</th>\n",
       "      <th>sales</th>\n",
       "      <th>selling_price</th>\n",
       "      <th>sku_department_AM</th>\n",
       "      <th>sku_department_BC</th>\n",
       "      <th>sku_department_BH</th>\n",
       "      <th>sku_department_BY</th>\n",
       "      <th>...</th>\n",
       "      <th>sku_subcategory_R01</th>\n",
       "      <th>sku_subcategory_RBA</th>\n",
       "      <th>sku_subcategory_SG2</th>\n",
       "      <th>sku_subcategory_SP5</th>\n",
       "      <th>sku_subcategory_SPD</th>\n",
       "      <th>sku_subcategory_ST5</th>\n",
       "      <th>sku_subcategory_ST9</th>\n",
       "      <th>month</th>\n",
       "      <th>day</th>\n",
       "      <th>year</th>\n",
       "    </tr>\n",
       "  </thead>\n",
       "  <tbody>\n",
       "    <tr>\n",
       "      <th>0</th>\n",
       "      <td>30.646683</td>\n",
       "      <td>-20.118088</td>\n",
       "      <td>28</td>\n",
       "      <td>2016-03-02</td>\n",
       "      <td>1</td>\n",
       "      <td>89.9</td>\n",
       "      <td>0</td>\n",
       "      <td>0</td>\n",
       "      <td>0</td>\n",
       "      <td>0</td>\n",
       "      <td>...</td>\n",
       "      <td>0</td>\n",
       "      <td>0</td>\n",
       "      <td>0</td>\n",
       "      <td>0</td>\n",
       "      <td>0</td>\n",
       "      <td>0</td>\n",
       "      <td>0</td>\n",
       "      <td>3</td>\n",
       "      <td>2</td>\n",
       "      <td>2016</td>\n",
       "    </tr>\n",
       "    <tr>\n",
       "      <th>1</th>\n",
       "      <td>30.501160</td>\n",
       "      <td>-20.330332</td>\n",
       "      <td>28</td>\n",
       "      <td>2016-03-03</td>\n",
       "      <td>0</td>\n",
       "      <td>89.9</td>\n",
       "      <td>0</td>\n",
       "      <td>0</td>\n",
       "      <td>0</td>\n",
       "      <td>0</td>\n",
       "      <td>...</td>\n",
       "      <td>0</td>\n",
       "      <td>0</td>\n",
       "      <td>0</td>\n",
       "      <td>0</td>\n",
       "      <td>0</td>\n",
       "      <td>0</td>\n",
       "      <td>0</td>\n",
       "      <td>3</td>\n",
       "      <td>3</td>\n",
       "      <td>2016</td>\n",
       "    </tr>\n",
       "    <tr>\n",
       "      <th>2</th>\n",
       "      <td>30.501160</td>\n",
       "      <td>-20.330332</td>\n",
       "      <td>28</td>\n",
       "      <td>2016-03-04</td>\n",
       "      <td>0</td>\n",
       "      <td>89.9</td>\n",
       "      <td>0</td>\n",
       "      <td>0</td>\n",
       "      <td>0</td>\n",
       "      <td>0</td>\n",
       "      <td>...</td>\n",
       "      <td>0</td>\n",
       "      <td>0</td>\n",
       "      <td>0</td>\n",
       "      <td>0</td>\n",
       "      <td>0</td>\n",
       "      <td>0</td>\n",
       "      <td>0</td>\n",
       "      <td>3</td>\n",
       "      <td>4</td>\n",
       "      <td>2016</td>\n",
       "    </tr>\n",
       "    <tr>\n",
       "      <th>3</th>\n",
       "      <td>30.501160</td>\n",
       "      <td>-20.330332</td>\n",
       "      <td>28</td>\n",
       "      <td>2016-03-05</td>\n",
       "      <td>0</td>\n",
       "      <td>89.9</td>\n",
       "      <td>0</td>\n",
       "      <td>0</td>\n",
       "      <td>0</td>\n",
       "      <td>0</td>\n",
       "      <td>...</td>\n",
       "      <td>0</td>\n",
       "      <td>0</td>\n",
       "      <td>0</td>\n",
       "      <td>0</td>\n",
       "      <td>0</td>\n",
       "      <td>0</td>\n",
       "      <td>0</td>\n",
       "      <td>3</td>\n",
       "      <td>5</td>\n",
       "      <td>2016</td>\n",
       "    </tr>\n",
       "    <tr>\n",
       "      <th>4</th>\n",
       "      <td>30.501160</td>\n",
       "      <td>-20.330332</td>\n",
       "      <td>28</td>\n",
       "      <td>2016-03-06</td>\n",
       "      <td>0</td>\n",
       "      <td>89.9</td>\n",
       "      <td>0</td>\n",
       "      <td>0</td>\n",
       "      <td>0</td>\n",
       "      <td>0</td>\n",
       "      <td>...</td>\n",
       "      <td>0</td>\n",
       "      <td>0</td>\n",
       "      <td>0</td>\n",
       "      <td>0</td>\n",
       "      <td>0</td>\n",
       "      <td>0</td>\n",
       "      <td>0</td>\n",
       "      <td>3</td>\n",
       "      <td>6</td>\n",
       "      <td>2016</td>\n",
       "    </tr>\n",
       "  </tbody>\n",
       "</table>\n",
       "<p>5 rows × 570 columns</p>\n",
       "</div>"
      ],
      "text/plain": [
       "           0          1  sku_key  tran_date  sales  selling_price  \\\n",
       "0  30.646683 -20.118088       28 2016-03-02      1           89.9   \n",
       "1  30.501160 -20.330332       28 2016-03-03      0           89.9   \n",
       "2  30.501160 -20.330332       28 2016-03-04      0           89.9   \n",
       "3  30.501160 -20.330332       28 2016-03-05      0           89.9   \n",
       "4  30.501160 -20.330332       28 2016-03-06      0           89.9   \n",
       "\n",
       "   sku_department_AM  sku_department_BC  sku_department_BH  sku_department_BY  \\\n",
       "0                  0                  0                  0                  0   \n",
       "1                  0                  0                  0                  0   \n",
       "2                  0                  0                  0                  0   \n",
       "3                  0                  0                  0                  0   \n",
       "4                  0                  0                  0                  0   \n",
       "\n",
       "   ...   sku_subcategory_R01  sku_subcategory_RBA  sku_subcategory_SG2  \\\n",
       "0  ...                     0                    0                    0   \n",
       "1  ...                     0                    0                    0   \n",
       "2  ...                     0                    0                    0   \n",
       "3  ...                     0                    0                    0   \n",
       "4  ...                     0                    0                    0   \n",
       "\n",
       "   sku_subcategory_SP5  sku_subcategory_SPD  sku_subcategory_ST5  \\\n",
       "0                    0                    0                    0   \n",
       "1                    0                    0                    0   \n",
       "2                    0                    0                    0   \n",
       "3                    0                    0                    0   \n",
       "4                    0                    0                    0   \n",
       "\n",
       "   sku_subcategory_ST9  month  day  year  \n",
       "0                    0      3    2  2016  \n",
       "1                    0      3    3  2016  \n",
       "2                    0      3    4  2016  \n",
       "3                    0      3    5  2016  \n",
       "4                    0      3    6  2016  \n",
       "\n",
       "[5 rows x 570 columns]"
      ]
     },
     "execution_count": 172,
     "metadata": {},
     "output_type": "execute_result"
    }
   ],
   "source": [
    "plot_df.head()"
   ]
  },
  {
   "cell_type": "code",
   "execution_count": 173,
   "metadata": {},
   "outputs": [
    {
     "data": {
      "text/plain": [
       "0.6405429244041443"
      ]
     },
     "execution_count": 173,
     "metadata": {},
     "output_type": "execute_result"
    }
   ],
   "source": [
    "dimred.kl_divergence_"
   ]
  },
  {
   "cell_type": "code",
   "execution_count": 174,
   "metadata": {},
   "outputs": [
    {
     "data": {
      "text/plain": [
       "<matplotlib.collections.PathCollection at 0x1852948b208>"
      ]
     },
     "execution_count": 174,
     "metadata": {},
     "output_type": "execute_result"
    },
    {
     "data": {
      "image/png": "[encoded data removed]",
      "text/plain": [
       "<Figure size 1080x864 with 1 Axes>"
      ]
     },
     "metadata": {
      "needs_background": "light"
     },
     "output_type": "display_data"
    }
   ],
   "source": [
    "f, ax = plt.subplots(figsize=(15,12))\n",
    "\n",
    "ax.scatter(plot_df[0], plot_df[1], c=plot_df['sku_key'], cmap='Paired')"
   ]
  },
  {
   "cell_type": "code",
   "execution_count": 175,
   "metadata": {},
   "outputs": [
    {
     "data": {
      "text/plain": [
       "array([  28,   34,  100,  152,  182,  325,  521,  523,  527,  585,  586,\n",
       "        588,  740,  806,  808,  810,  815,  920,  938,  985, 1134, 1259,\n",
       "       1290, 1378, 1379, 1651, 1652, 1775, 1808, 1819, 1820, 1822, 1960,\n",
       "       2166, 2188, 2420, 2421, 2422, 2423, 2440, 2441, 2443, 2444, 2671,\n",
       "       2806, 2934, 3145, 3577, 3830, 4113, 4447, 4491, 4505, 4506, 4507,\n",
       "       4508, 4606, 4727, 4728, 5242, 5491, 5728, 5729, 5731, 5736, 5779,\n",
       "       5784, 5787, 5788, 5790, 5801, 5893, 5896, 5899, 5900, 5901],\n",
       "      dtype=int64)"
      ]
     },
     "execution_count": 175,
     "metadata": {},
     "output_type": "execute_result"
    }
   ],
   "source": [
    "plot_df['sku_key'].unique()"
   ]
  },
  {
   "cell_type": "code",
   "execution_count": 176,
   "metadata": {},
   "outputs": [],
   "source": [
    "maping_dict = {}\n",
    "for i, j in enumerate(plot_df['sku_key'].unique()):\n",
    "    maping_dict[j] = i"
   ]
  },
  {
   "cell_type": "code",
   "execution_count": 177,
   "metadata": {},
   "outputs": [],
   "source": [
    "skus = skus.map(maping_dict)[:limit]"
   ]
  },
  {
   "cell_type": "code",
   "execution_count": 178,
   "metadata": {},
   "outputs": [],
   "source": [
    "skus = skus.astype(int)"
   ]
  },
  {
   "cell_type": "code",
   "execution_count": 180,
   "metadata": {},
   "outputs": [
    {
     "data": {
      "text/plain": [
       "76"
      ]
     },
     "execution_count": 180,
     "metadata": {},
     "output_type": "execute_result"
    }
   ],
   "source": [
    "len(skus.unique())"
   ]
  },
  {
   "cell_type": "markdown",
   "metadata": {},
   "source": [
    "## Self Organizing Maps"
   ]
  },
  {
   "cell_type": "code",
   "execution_count": 59,
   "metadata": {},
   "outputs": [],
   "source": [
    "from minisom import MiniSom"
   ]
  },
  {
   "cell_type": "code",
   "execution_count": 181,
   "metadata": {},
   "outputs": [],
   "source": [
    "som = MiniSom(x=30, y=30, input_len=563, learning_rate=0.1)"
   ]
  },
  {
   "cell_type": "code",
   "execution_count": 182,
   "metadata": {},
   "outputs": [],
   "source": [
    "X = X.values"
   ]
  },
  {
   "cell_type": "code",
   "execution_count": 186,
   "metadata": {},
   "outputs": [],
   "source": [
    "som.random_weights_init(X)\n",
    "som.train_random(X, 5000)"
   ]
  },
  {
   "cell_type": "code",
   "execution_count": 184,
   "metadata": {},
   "outputs": [],
   "source": [
    "from pylab import bone, pcolor, colorbar, plot, show, figure, text"
   ]
  },
  {
   "cell_type": "code",
   "execution_count": 185,
   "metadata": {},
   "outputs": [
    {
     "data": {
      "image/png": "[encoded data removed]",
      "text/plain": [
       "<Figure size 1080x864 with 2 Axes>"
      ]
     },
     "metadata": {
      "needs_background": "light"
     },
     "output_type": "display_data"
    }
   ],
   "source": [
    "figure(figsize=(15,12))\n",
    "bone()\n",
    "pcolor(som.distance_map().T)\n",
    "colorbar()\n",
    "\n",
    "colors = ['r', 'b', 'g', 'y', 'tomato', 'c', 'm', 'gold',\n",
    "          'cyan', 'skyblue', 'olive', 'orchid', 'lime',\n",
    "          'navy', 'crimson', 'gold', 'red', 'blue', 'brown',\n",
    "          'r', 'b', 'g', 'y', 'tomato', 'c', 'm', 'gold',\n",
    "          'cyan', 'skyblue', 'olive', 'orchid', 'lime',\n",
    "          'navy', 'crimson', 'gold', 'red', 'blue', 'brown',\n",
    "          'r', 'b', 'g', 'y', 'tomato', 'c', 'm', 'gold',\n",
    "          'cyan', 'skyblue', 'olive', 'orchid', 'lime',\n",
    "          'navy', 'crimson', 'gold', 'red', 'blue', 'brown',\n",
    "          'r', 'b', 'g', 'y', 'tomato', 'c', 'm', 'gold',\n",
    "          'cyan', 'skyblue', 'olive', 'orchid', 'lime',\n",
    "          'navy', 'crimson', 'gold', 'red', 'blue', 'brown',]\n",
    "wenners = []\n",
    "for i, j in enumerate(X):\n",
    "    \n",
    "    w = som.winner(j)\n",
    "    wenners.append(w)\n",
    "    text(w[0] + 0.5,\n",
    "         w[1] + 0.5,\n",
    "         skus[i],\n",
    "         color = colors[skus[i]],\n",
    "         fontsize=15)\n",
    "show()"
   ]
  },
  {
   "cell_type": "code",
   "execution_count": null,
   "metadata": {},
   "outputs": [],
   "source": []
  }
 ],
 "metadata": {
  "kernelspec": {
   "display_name": "Python 3",
   "language": "python",
   "name": "python3"
  },
  "language_info": {
   "codemirror_mode": {
    "name": "ipython",
    "version": 3
   },
   "file_extension": ".py",
   "mimetype": "text/x-python",
   "name": "python",
   "nbconvert_exporter": "python",
   "pygments_lexer": "ipython3",
   "version": "3.6.6"
  }
 },
 "nbformat": 4,
 "nbformat_minor": 2
}
